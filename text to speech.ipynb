{
 "cells": [
  {
   "cell_type": "code",
   "execution_count": 1,
   "id": "de7fcfe7",
   "metadata": {},
   "outputs": [],
   "source": [
    "# NAME: EFUA KUSIWA ABOAGYE"
   ]
  },
  {
   "cell_type": "code",
   "execution_count": 2,
   "id": "add33be1",
   "metadata": {},
   "outputs": [],
   "source": [
    "# INDEX NUMBER: 10972176"
   ]
  },
  {
   "cell_type": "code",
   "execution_count": 3,
   "id": "f45842d7",
   "metadata": {},
   "outputs": [],
   "source": [
    "# DEPARTMENT: BIOMEDICAL ENGINEERING"
   ]
  },
  {
   "cell_type": "code",
   "execution_count": 4,
   "id": "9ac1df74",
   "metadata": {},
   "outputs": [],
   "source": [
    "#importing libraries PySimpleGUI and pyttsx3"
   ]
  },
  {
   "cell_type": "code",
   "execution_count": 5,
   "id": "1d5a4cd6",
   "metadata": {},
   "outputs": [],
   "source": [
    "import PySimpleGUI as sg\n",
    "import pyttsx3\n"
   ]
  },
  {
   "cell_type": "code",
   "execution_count": 6,
   "id": "14764751",
   "metadata": {},
   "outputs": [],
   "source": [
    "#Create an instance of the pyttsx3"
   ]
  },
  {
   "cell_type": "code",
   "execution_count": 7,
   "id": "10be105a",
   "metadata": {},
   "outputs": [],
   "source": [
    "wine = pyttsx3.init()\n"
   ]
  },
  {
   "cell_type": "code",
   "execution_count": 8,
   "id": "161e0866",
   "metadata": {},
   "outputs": [],
   "source": [
    "#Defining the layout of the GUI. Features that are going to be available"
   ]
  },
  {
   "cell_type": "code",
   "execution_count": 9,
   "id": "ff595c7b",
   "metadata": {},
   "outputs": [],
   "source": [
    "layout = [[sg.Text(\"Enter text to be spoken:\"), sg.InputText(key=\"-INPUT-\")],\n",
    "          [sg.Text(\"Select voice:\"), sg.Combo([\"Male\", \"Female\"], default_value=\"Male\", key=\"-voice-\")],\n",
    "          [sg.Button(\"Speak\", button_color=(\"green\", \"yellow\")), sg.Button(\"Exit\", button_color=(\"blue\", \"white\"))]]\n"
   ]
  },
  {
   "cell_type": "code",
   "execution_count": 10,
   "id": "8066a1f2",
   "metadata": {},
   "outputs": [],
   "source": [
    "#Choosing the theme and font"
   ]
  },
  {
   "cell_type": "code",
   "execution_count": 36,
   "id": "e43cd078",
   "metadata": {},
   "outputs": [
    {
     "data": {
      "text/plain": [
       "True"
      ]
     },
     "execution_count": 36,
     "metadata": {},
     "output_type": "execute_result"
    }
   ],
   "source": [
    "sg.theme('Dark')\n",
    "sg.set_options(font=(\"Arial\", 14))\n"
   ]
  },
  {
   "cell_type": "code",
   "execution_count": 37,
   "id": "a9eeed95",
   "metadata": {},
   "outputs": [],
   "source": [
    "# Creating a GUI from PySimpleGUI that was imported"
   ]
  },
  {
   "cell_type": "code",
   "execution_count": 38,
   "id": "55958efa",
   "metadata": {},
   "outputs": [],
   "source": [
    "window = sg.Window(\"Text to Speech App\", layout)\n",
    "\n"
   ]
  },
  {
   "cell_type": "code",
   "execution_count": 39,
   "id": "0332de5d",
   "metadata": {},
   "outputs": [],
   "source": [
    "#Create the PySimpleGUI event loop"
   ]
  },
  {
   "cell_type": "code",
   "execution_count": null,
   "id": "2f706722",
   "metadata": {},
   "outputs": [],
   "source": [
    "\n",
    "while True:\n",
    "    event, values = window.read()\n",
    "    if event in (sg.WIN_CLOSED, \"Exit\"):\n",
    "        break\n",
    "    if event == \"Speak\":\n",
    "        text = values[\"-INPUT-\"]\n",
    "        voice = values[\"-voice-\"]\n",
    "        \n"
   ]
  },
  {
   "cell_type": "code",
   "execution_count": null,
   "id": "650fe29f",
   "metadata": {},
   "outputs": [],
   "source": [
    "#Setting the voice "
   ]
  },
  {
   "cell_type": "code",
   "execution_count": null,
   "id": "3033a371",
   "metadata": {},
   "outputs": [],
   "source": [
    "if voice == \"Male\":\n",
    "    wine.setProperty(\"voice\", \"english+m3\")\n",
    "else:\n",
    "    wine.setProperty(\"voice\", \"english+f3\")\n"
   ]
  },
  {
   "cell_type": "code",
   "execution_count": null,
   "id": "cf54981d",
   "metadata": {},
   "outputs": [],
   "source": [
    "#Converting text to speech using the pyttsx3 "
   ]
  },
  {
   "cell_type": "code",
   "execution_count": null,
   "id": "0671fa93",
   "metadata": {},
   "outputs": [],
   "source": [
    "wine.say(text)\n",
    "wine.runAndWait()"
   ]
  },
  {
   "cell_type": "code",
   "execution_count": null,
   "id": "f7f4b46d",
   "metadata": {},
   "outputs": [],
   "source": [
    "window.close()\n",
    "wine.stop()\n"
   ]
  },
  {
   "cell_type": "code",
   "execution_count": null,
   "id": "3d350a9e",
   "metadata": {},
   "outputs": [],
   "source": []
  }
 ],
 "metadata": {
  "kernelspec": {
   "display_name": "Python 3 (ipykernel)",
   "language": "python",
   "name": "python3"
  },
  "language_info": {
   "codemirror_mode": {
    "name": "ipython",
    "version": 3
   },
   "file_extension": ".py",
   "mimetype": "text/x-python",
   "name": "python",
   "nbconvert_exporter": "python",
   "pygments_lexer": "ipython3",
   "version": "3.11.1"
  }
 },
 "nbformat": 4,
 "nbformat_minor": 5
}
