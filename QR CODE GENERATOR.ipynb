{
 "cells": [
  {
   "cell_type": "code",
   "execution_count": 1,
   "id": "c4cc5325",
   "metadata": {},
   "outputs": [],
   "source": [
    "# NAME: EFUA KUSIWA ABOAGYE "
   ]
  },
  {
   "cell_type": "code",
   "execution_count": 2,
   "id": "3a2b4a9f",
   "metadata": {},
   "outputs": [],
   "source": [
    "# ID: 10972176"
   ]
  },
  {
   "cell_type": "code",
   "execution_count": 3,
   "id": "d42d7bbd",
   "metadata": {},
   "outputs": [],
   "source": [
    "# DEPARTMENT: BIOMEDICAL ENGINEERING"
   ]
  },
  {
   "cell_type": "code",
   "execution_count": 4,
   "id": "e17e05e9",
   "metadata": {},
   "outputs": [],
   "source": [
    "# Importing PysimpleGUI and QR code "
   ]
  },
  {
   "cell_type": "code",
   "execution_count": 5,
   "id": "f4251143",
   "metadata": {},
   "outputs": [],
   "source": [
    "import PySimpleGUI as sg\n",
    "import qrcode\n"
   ]
  },
  {
   "cell_type": "code",
   "execution_count": 6,
   "id": "a74318fd",
   "metadata": {},
   "outputs": [],
   "source": [
    "#Choosing the theme and font"
   ]
  },
  {
   "cell_type": "code",
   "execution_count": 7,
   "id": "feb6d0e6",
   "metadata": {},
   "outputs": [],
   "source": [
    "sg.theme('Dark')\n",
    "font = ('arial', 18)"
   ]
  },
  {
   "cell_type": "code",
   "execution_count": 8,
   "id": "6c8f2413",
   "metadata": {},
   "outputs": [],
   "source": [
    "qr_image = [sg.Image('', key='-QRCODE-')]"
   ]
  },
  {
   "cell_type": "code",
   "execution_count": 9,
   "id": "04e2529b",
   "metadata": {},
   "outputs": [],
   "source": [
    "#Defining the layout of the GUI. Features that are going to be available"
   ]
  },
  {
   "cell_type": "code",
   "execution_count": 10,
   "id": "efd77925",
   "metadata": {},
   "outputs": [],
   "source": [
    "layout = [\n",
    "    [sg.Text('Enter URL:')],\n",
    "    [sg.Input('', key='-URL-')],\n",
    "    [sg.Column([qr_image], justification='center')],\n",
    "    [sg.Button('Create', key='-submit-', expand_x=True)]\n",
    "]"
   ]
  },
  {
   "cell_type": "code",
   "execution_count": 11,
   "id": "83f67b45",
   "metadata": {},
   "outputs": [],
   "source": [
    "# Creating a GUI from PySimpleGUI that was imported"
   ]
  },
  {
   "cell_type": "code",
   "execution_count": 12,
   "id": "dfba32b0",
   "metadata": {},
   "outputs": [],
   "source": [
    "window = sg.Window('QR Code Generator', layout, font=font)"
   ]
  },
  {
   "cell_type": "code",
   "execution_count": 13,
   "id": "27e01d8e",
   "metadata": {},
   "outputs": [],
   "source": [
    "#Create the PySimpleGUI event loop"
   ]
  },
  {
   "cell_type": "code",
   "execution_count": 14,
   "id": "eaf9ff2e",
   "metadata": {},
   "outputs": [],
   "source": [
    "while True:\n",
    "    event, values = window.read()\n",
    "    if event == sg.WIN_CLOSED:\n",
    "        break\n",
    "    if event == '-submit-':\n",
    "        url = values['-URL-']\n",
    "        if url:\n",
    "            img = qrcode.make(url)\n",
    "            img.save('qr.png')\n",
    "            window['-QRCODE-'].update('qr.png')\n",
    "window.close()\n"
   ]
  },
  {
   "cell_type": "code",
   "execution_count": null,
   "id": "990696cc",
   "metadata": {},
   "outputs": [],
   "source": []
  }
 ],
 "metadata": {
  "kernelspec": {
   "display_name": "Python 3 (ipykernel)",
   "language": "python",
   "name": "python3"
  },
  "language_info": {
   "codemirror_mode": {
    "name": "ipython",
    "version": 3
   },
   "file_extension": ".py",
   "mimetype": "text/x-python",
   "name": "python",
   "nbconvert_exporter": "python",
   "pygments_lexer": "ipython3",
   "version": "3.11.1"
  },
  "vscode": {
   "interpreter": {
    "hash": "1e539a9f3a4a87eacc134920d9c7faa03d349bdb5ac328b1f8af2998786e43a1"
   }
  }
 },
 "nbformat": 4,
 "nbformat_minor": 5
}
